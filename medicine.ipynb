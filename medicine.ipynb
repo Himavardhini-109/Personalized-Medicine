{
 "cells": [
  {
   "cell_type": "code",
   "execution_count": 1,
   "id": "044ea1d7-ec1a-44df-a4da-082323c74b6b",
   "metadata": {},
   "outputs": [
    {
     "name": "stdout",
     "output_type": "stream",
     "text": [
      "Requirement already satisfied: numpy in c:\\users\\dell\\anaconda3\\lib\\site-packages (2.1.3)\n",
      "Note: you may need to restart the kernel to use updated packages.\n"
     ]
    }
   ],
   "source": [
    "pip install numpy"
   ]
  },
  {
   "cell_type": "code",
   "execution_count": 2,
   "id": "3974dd50-4eaa-48f2-ba29-5f9334a21f12",
   "metadata": {},
   "outputs": [
    {
     "name": "stdout",
     "output_type": "stream",
     "text": [
      "Requirement already satisfied: pandas in c:\\users\\dell\\anaconda3\\lib\\site-packages (2.2.3)\n",
      "Requirement already satisfied: numpy>=1.26.0 in c:\\users\\dell\\anaconda3\\lib\\site-packages (from pandas) (2.1.3)\n",
      "Requirement already satisfied: python-dateutil>=2.8.2 in c:\\users\\dell\\anaconda3\\lib\\site-packages (from pandas) (2.9.0.post0)\n",
      "Requirement already satisfied: pytz>=2020.1 in c:\\users\\dell\\anaconda3\\lib\\site-packages (from pandas) (2024.1)\n",
      "Requirement already satisfied: tzdata>=2022.7 in c:\\users\\dell\\anaconda3\\lib\\site-packages (from pandas) (2025.2)\n",
      "Requirement already satisfied: six>=1.5 in c:\\users\\dell\\anaconda3\\lib\\site-packages (from python-dateutil>=2.8.2->pandas) (1.17.0)\n",
      "Note: you may need to restart the kernel to use updated packages.\n"
     ]
    }
   ],
   "source": [
    "pip install pandas"
   ]
  },
  {
   "cell_type": "code",
   "execution_count": 3,
   "id": "155dd8d6-fcf6-44a5-9cff-b43186b9ee1a",
   "metadata": {},
   "outputs": [
    {
     "name": "stdout",
     "output_type": "stream",
     "text": [
      "✅ Accuracy: 0.8\n",
      "\n",
      "🧾 Classification Report:\n",
      "               precision    recall  f1-score   support\n",
      "\n",
      "           0       1.00      0.67      0.80         3\n",
      "           1       0.67      1.00      0.80         2\n",
      "\n",
      "    accuracy                           0.80         5\n",
      "   macro avg       0.83      0.83      0.80         5\n",
      "weighted avg       0.87      0.80      0.80         5\n",
      "\n",
      "\n",
      "🔍 Prediction for new patient: ✅ Effective\n"
     ]
    }
   ],
   "source": [
    "import pandas as pd\n",
    "from sklearn.model_selection import train_test_split\n",
    "from sklearn.ensemble import RandomForestClassifier\n",
    "from sklearn.metrics import accuracy_score, classification_report\n",
    "\n",
    "# Step 1: Load the dataset (FIXED path format)\n",
    "data = pd.read_csv(r\"C:\\Users\\Dell\\OneDrive\\Documents\\personalized_medicine.csv\")\n",
    "\n",
    "# Step 2: Clean column names (remove extra spaces, lowercase)\n",
    "data.columns = data.columns.str.strip().str.lower()\n",
    "\n",
    "# Step 3: Encode gender column (FIXED map issue)\n",
    "data['gender'] = data['gender'].map({'m': 0, 'f': 1})\n",
    "\n",
    "# Step 4: Separate features and target\n",
    "X = data.drop('response', axis=1)\n",
    "y = data['response']\n",
    "\n",
    "# Step 5: Train-test split\n",
    "X_train, X_test, y_train, y_test = train_test_split(X, y, test_size=0.2, random_state=42)\n",
    "\n",
    "# Step 6: Train the model\n",
    "model = RandomForestClassifier()\n",
    "model.fit(X_train, y_train)\n",
    "\n",
    "# Step 7: Predict and evaluate\n",
    "y_pred = model.predict(X_test)\n",
    "print(\"✅ Accuracy:\", accuracy_score(y_test, y_pred))\n",
    "print(\"\\n🧾 Classification Report:\\n\", classification_report(y_test, y_pred))\n",
    "\n",
    "# Step 8: Predict for a new patient\n",
    "new_patient = pd.DataFrame({\n",
    "    'age': [55],\n",
    "    'gender': [1],         # 1 = Female\n",
    "    'gene_a': [1],\n",
    "    'gene_b': [0],\n",
    "    'gene_c': [1],\n",
    "    'mutation_score': [3.4]\n",
    "})\n",
    "\n",
    "prediction = model.predict(new_patient)\n",
    "print(\"\\n🔍 Prediction for new patient:\", \"✅ Effective\" if prediction[0] == 1 else \"❌ Not Effective\")\n"
   ]
  },
  {
   "cell_type": "code",
   "execution_count": null,
   "id": "be575053-41a2-4cc1-84bd-402b6e664dfd",
   "metadata": {},
   "outputs": [],
   "source": []
  }
 ],
 "metadata": {
  "kernelspec": {
   "display_name": "Python 3 (ipykernel)",
   "language": "python",
   "name": "python3"
  },
  "language_info": {
   "codemirror_mode": {
    "name": "ipython",
    "version": 3
   },
   "file_extension": ".py",
   "mimetype": "text/x-python",
   "name": "python",
   "nbconvert_exporter": "python",
   "pygments_lexer": "ipython3",
   "version": "3.13.5"
  }
 },
 "nbformat": 4,
 "nbformat_minor": 5
}
